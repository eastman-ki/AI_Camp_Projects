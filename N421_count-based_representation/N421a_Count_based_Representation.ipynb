{
  "cells": [
    {
      "cell_type": "markdown",
      "metadata": {
        "id": "za56W96DnxVC"
      },
      "source": [
        "<img align=\"right\" src=\"https://ds-cs-images.s3.ap-northeast-2.amazonaws.com/Codestates_Fulllogo_Color.png\" width=100>\n",
        "\n",
        "## *AIB / SECTION 4 / SPRINT 2 / NOTE 1*\n",
        "\n",
        "# 📝 Assignment\n",
        "\n",
        "---\n",
        "\n",
        "\n",
        "# Count-based_Representation"
      ]
    },
    {
      "cell_type": "markdown",
      "metadata": {
        "id": "68CzOVminxVR"
      },
      "source": [
        "indeed.com 에서 Data Scientist 키워드로 Job descrition을 찾아 스크래핑한 데이터를 이용해 과제를 진행해 보겠습니다.\n",
        "\n",
        "[Data_Scienties.csv](https://ds-lecture-data.s3.ap-northeast-2.amazonaws.com/indeed/Data_Scientist.csv) 파일에는 1300여개의 Data Scientist job description 정보가 담겨 있습니다."
      ]
    },
    {
      "cell_type": "markdown",
      "metadata": {
        "id": "Fon1gvE36a9Q"
      },
      "source": [
        "## 1. 데이터 전처리 (Text preprocessing)"
      ]
    },
    {
      "cell_type": "code",
      "execution_count": 61,
      "metadata": {
        "id": "cnvZzxM4EVMh"
      },
      "outputs": [],
      "source": [
        "import re\n",
        "import string\n",
        "\n",
        "import numpy as np\n",
        "import pandas as pd\n",
        "import matplotlib.pyplot as plt"
      ]
    },
    {
      "cell_type": "markdown",
      "metadata": {
        "id": "U1w7-dwwF5rW"
      },
      "source": [
        "### 0) 텍스트 분석에 앞서 데이터 전처리를 진행합니다."
      ]
    },
    {
      "cell_type": "markdown",
      "metadata": {
        "id": "3Omo3_B1FT_I"
      },
      "source": [
        "- 파일을 불러온 후 title, company, description 에 해당하는 Column만 남겨주세요.\n",
        "- 중복값을 제거하세요."
      ]
    },
    {
      "cell_type": "code",
      "execution_count": 62,
      "metadata": {
        "id": "IwdNT6hmEPhq"
      },
      "outputs": [],
      "source": [
        "df = pd.read_csv('https://ds-lecture-data.s3.ap-northeast-2.amazonaws.com/indeed/Data_Scientist.csv', index_col=0)"
      ]
    },
    {
      "cell_type": "code",
      "source": [
        "df.drop(\"url\", axis = 1, inplace = True)\n",
        "df.drop_duplicates(keep=\"first\", inplace = True)\n",
        "df.reset_index(drop = True, inplace = True)\n",
        "df.head()"
      ],
      "metadata": {
        "id": "seJDiIieroZ-",
        "outputId": "5a5b74c5-beb2-45da-b87c-3c2223b0b4d3",
        "colab": {
          "base_uri": "https://localhost:8080/",
          "height": 206
        }
      },
      "execution_count": 63,
      "outputs": [
        {
          "output_type": "execute_result",
          "data": {
            "text/plain": [
              "                                               title  \\\n",
              "0               Data Scientist (Structured Products)   \n",
              "1                           Specialist, Data Science   \n",
              "2                        Sr. Data Scientist (Remote)   \n",
              "3  Data Scientist Associate Sr (DADS06) BTB - LEG...   \n",
              "4                                     Data Scientist   \n",
              "\n",
              "                            company  \\\n",
              "0  EquiTrust Life Insurance Company   \n",
              "1                        Nationwide   \n",
              "2        American Credit Acceptance   \n",
              "3         JPMorgan Chase Bank, N.A.   \n",
              "4               VyStar Credit Union   \n",
              "\n",
              "                                         description  \n",
              "0  Job Details\\nDescription\\nEssential Duties and...  \n",
              "1  As a team member in the Finance and Internal A...  \n",
              "2  Overview:\\nAmerican Credit Acceptance seeks a ...  \n",
              "3  J.P. Morgan's Corporate & Investment Bank (CIB...  \n",
              "4  At VyStar, we offer competitive pay, an excell...  "
            ],
            "text/html": [
              "\n",
              "  <div id=\"df-c87d350f-1e63-47b7-8c12-c02542340a93\">\n",
              "    <div class=\"colab-df-container\">\n",
              "      <div>\n",
              "<style scoped>\n",
              "    .dataframe tbody tr th:only-of-type {\n",
              "        vertical-align: middle;\n",
              "    }\n",
              "\n",
              "    .dataframe tbody tr th {\n",
              "        vertical-align: top;\n",
              "    }\n",
              "\n",
              "    .dataframe thead th {\n",
              "        text-align: right;\n",
              "    }\n",
              "</style>\n",
              "<table border=\"1\" class=\"dataframe\">\n",
              "  <thead>\n",
              "    <tr style=\"text-align: right;\">\n",
              "      <th></th>\n",
              "      <th>title</th>\n",
              "      <th>company</th>\n",
              "      <th>description</th>\n",
              "    </tr>\n",
              "  </thead>\n",
              "  <tbody>\n",
              "    <tr>\n",
              "      <th>0</th>\n",
              "      <td>Data Scientist (Structured Products)</td>\n",
              "      <td>EquiTrust Life Insurance Company</td>\n",
              "      <td>Job Details\\nDescription\\nEssential Duties and...</td>\n",
              "    </tr>\n",
              "    <tr>\n",
              "      <th>1</th>\n",
              "      <td>Specialist, Data Science</td>\n",
              "      <td>Nationwide</td>\n",
              "      <td>As a team member in the Finance and Internal A...</td>\n",
              "    </tr>\n",
              "    <tr>\n",
              "      <th>2</th>\n",
              "      <td>Sr. Data Scientist (Remote)</td>\n",
              "      <td>American Credit Acceptance</td>\n",
              "      <td>Overview:\\nAmerican Credit Acceptance seeks a ...</td>\n",
              "    </tr>\n",
              "    <tr>\n",
              "      <th>3</th>\n",
              "      <td>Data Scientist Associate Sr (DADS06) BTB - LEG...</td>\n",
              "      <td>JPMorgan Chase Bank, N.A.</td>\n",
              "      <td>J.P. Morgan's Corporate &amp; Investment Bank (CIB...</td>\n",
              "    </tr>\n",
              "    <tr>\n",
              "      <th>4</th>\n",
              "      <td>Data Scientist</td>\n",
              "      <td>VyStar Credit Union</td>\n",
              "      <td>At VyStar, we offer competitive pay, an excell...</td>\n",
              "    </tr>\n",
              "  </tbody>\n",
              "</table>\n",
              "</div>\n",
              "      <button class=\"colab-df-convert\" onclick=\"convertToInteractive('df-c87d350f-1e63-47b7-8c12-c02542340a93')\"\n",
              "              title=\"Convert this dataframe to an interactive table.\"\n",
              "              style=\"display:none;\">\n",
              "        \n",
              "  <svg xmlns=\"http://www.w3.org/2000/svg\" height=\"24px\"viewBox=\"0 0 24 24\"\n",
              "       width=\"24px\">\n",
              "    <path d=\"M0 0h24v24H0V0z\" fill=\"none\"/>\n",
              "    <path d=\"M18.56 5.44l.94 2.06.94-2.06 2.06-.94-2.06-.94-.94-2.06-.94 2.06-2.06.94zm-11 1L8.5 8.5l.94-2.06 2.06-.94-2.06-.94L8.5 2.5l-.94 2.06-2.06.94zm10 10l.94 2.06.94-2.06 2.06-.94-2.06-.94-.94-2.06-.94 2.06-2.06.94z\"/><path d=\"M17.41 7.96l-1.37-1.37c-.4-.4-.92-.59-1.43-.59-.52 0-1.04.2-1.43.59L10.3 9.45l-7.72 7.72c-.78.78-.78 2.05 0 2.83L4 21.41c.39.39.9.59 1.41.59.51 0 1.02-.2 1.41-.59l7.78-7.78 2.81-2.81c.8-.78.8-2.07 0-2.86zM5.41 20L4 18.59l7.72-7.72 1.47 1.35L5.41 20z\"/>\n",
              "  </svg>\n",
              "      </button>\n",
              "      \n",
              "  <style>\n",
              "    .colab-df-container {\n",
              "      display:flex;\n",
              "      flex-wrap:wrap;\n",
              "      gap: 12px;\n",
              "    }\n",
              "\n",
              "    .colab-df-convert {\n",
              "      background-color: #E8F0FE;\n",
              "      border: none;\n",
              "      border-radius: 50%;\n",
              "      cursor: pointer;\n",
              "      display: none;\n",
              "      fill: #1967D2;\n",
              "      height: 32px;\n",
              "      padding: 0 0 0 0;\n",
              "      width: 32px;\n",
              "    }\n",
              "\n",
              "    .colab-df-convert:hover {\n",
              "      background-color: #E2EBFA;\n",
              "      box-shadow: 0px 1px 2px rgba(60, 64, 67, 0.3), 0px 1px 3px 1px rgba(60, 64, 67, 0.15);\n",
              "      fill: #174EA6;\n",
              "    }\n",
              "\n",
              "    [theme=dark] .colab-df-convert {\n",
              "      background-color: #3B4455;\n",
              "      fill: #D2E3FC;\n",
              "    }\n",
              "\n",
              "    [theme=dark] .colab-df-convert:hover {\n",
              "      background-color: #434B5C;\n",
              "      box-shadow: 0px 1px 3px 1px rgba(0, 0, 0, 0.15);\n",
              "      filter: drop-shadow(0px 1px 2px rgba(0, 0, 0, 0.3));\n",
              "      fill: #FFFFFF;\n",
              "    }\n",
              "  </style>\n",
              "\n",
              "      <script>\n",
              "        const buttonEl =\n",
              "          document.querySelector('#df-c87d350f-1e63-47b7-8c12-c02542340a93 button.colab-df-convert');\n",
              "        buttonEl.style.display =\n",
              "          google.colab.kernel.accessAllowed ? 'block' : 'none';\n",
              "\n",
              "        async function convertToInteractive(key) {\n",
              "          const element = document.querySelector('#df-c87d350f-1e63-47b7-8c12-c02542340a93');\n",
              "          const dataTable =\n",
              "            await google.colab.kernel.invokeFunction('convertToInteractive',\n",
              "                                                     [key], {});\n",
              "          if (!dataTable) return;\n",
              "\n",
              "          const docLinkHtml = 'Like what you see? Visit the ' +\n",
              "            '<a target=\"_blank\" href=https://colab.research.google.com/notebooks/data_table.ipynb>data table notebook</a>'\n",
              "            + ' to learn more about interactive tables.';\n",
              "          element.innerHTML = '';\n",
              "          dataTable['output_type'] = 'display_data';\n",
              "          await google.colab.output.renderOutput(dataTable, element);\n",
              "          const docLink = document.createElement('div');\n",
              "          docLink.innerHTML = docLinkHtml;\n",
              "          element.appendChild(docLink);\n",
              "        }\n",
              "      </script>\n",
              "    </div>\n",
              "  </div>\n",
              "  "
            ]
          },
          "metadata": {},
          "execution_count": 63
        }
      ]
    },
    {
      "cell_type": "code",
      "source": [
        "df.shape"
      ],
      "metadata": {
        "id": "lItCvnMtkNh6",
        "outputId": "65d6bff7-2424-47ef-e78d-cf4669375669",
        "colab": {
          "base_uri": "https://localhost:8080/"
        }
      },
      "execution_count": 64,
      "outputs": [
        {
          "output_type": "execute_result",
          "data": {
            "text/plain": [
              "(757, 3)"
            ]
          },
          "metadata": {},
          "execution_count": 64
        }
      ]
    },
    {
      "cell_type": "markdown",
      "metadata": {
        "id": "JepbPJw5nxVT"
      },
      "source": [
        "### 1) 토큰을 정제합니다."
      ]
    },
    {
      "cell_type": "markdown",
      "metadata": {
        "id": "8Mq6oYCdQ0cZ"
      },
      "source": [
        "- 문자를 소문자로 통일\n",
        "- 분석에 관련 없는 정보 제거\n",
        "- 이번 과제는 `spacy` 로부터 `\"en_core_web_sm\"` 을 로드하여 진행해주세요.\n",
        "\n",
        "- **문항 1) 대문자를 소문자로 변경하는 함수를 입력하세요.**\n",
        "- **문항 2) 정규 표현식을 사용하여 re 라이브러리에서 알파벳 소문자, 숫자만 받을 수 있는 코드를 작성하세요.**"
      ]
    },
    {
      "cell_type": "code",
      "execution_count": 68,
      "metadata": {
        "id": "_VBRkXS6nxVT"
      },
      "outputs": [],
      "source": [
        "import spacy\n",
        "from spacy.tokenizer import Tokenizer\n",
        "\n",
        "nlp = spacy.load(\"en_core_web_sm\")\n",
        "tokenizer = Tokenizer(nlp.vocab)"
      ]
    },
    {
      "cell_type": "code",
      "source": [
        "tokens = []\n",
        "\n",
        "for doc in tokenizer.pipe(df[\"description\"]):\n",
        "  doc_tokens = [re.sub(r'[^a-z0-9]', \"\", token.text.lower()) for token in doc  if (token.text != '\\n') and (token.text != '\\n\\n')]\n",
        "  tokens.append(doc_tokens)\n",
        "df['tokens'] = tokens\n",
        "df['tokens']"
      ],
      "metadata": {
        "id": "X5N4nLhORT9J",
        "outputId": "db8bf7bb-df8c-4b37-ed09-fb2ff57579fc",
        "colab": {
          "base_uri": "https://localhost:8080/"
        }
      },
      "execution_count": 69,
      "outputs": [
        {
          "output_type": "execute_result",
          "data": {
            "text/plain": [
              "0      [job, details, description, essential, duties,...\n",
              "1      [as, a, team, member, in, the, finance, and, i...\n",
              "2      [overview, american, credit, acceptance, seeks...\n",
              "3      [jp, morgans, corporate, , investment, bank, c...\n",
              "4      [at, vystar, we, offer, competitive, pay, an, ...\n",
              "                             ...                        \n",
              "752    [our, expert, delivery, , business, intelligen...\n",
              "753    [music, for, everyone, no, credit, card, neede...\n",
              "754    [senior, data, , applied, scientist, do, you, ...\n",
              "755    [ebay, is, a, global, commerce, leader, that, ...\n",
              "756    [tldr, spring, is, accelerating, the, discover...\n",
              "Name: tokens, Length: 757, dtype: object"
            ]
          },
          "metadata": {},
          "execution_count": 69
        }
      ]
    },
    {
      "cell_type": "markdown",
      "metadata": {
        "id": "RdgRqlzsnxVT"
      },
      "source": [
        "### 2) 정제한 토큰을 시각화 합니다."
      ]
    },
    {
      "cell_type": "markdown",
      "metadata": {
        "id": "sOobV051OOsv"
      },
      "source": [
        "- Top 10 토큰을 프린트 합니다.\n",
        "- 토큰의 수, 빈도 순위, 존재 문서 수, 비율 등 정보를 계산합니다.\n",
        "- 토큰 순위에 따른 퍼센트 누적 분포 그래프를 시각화합니다.\n",
        "\n",
        "- **문항 3) 추천 토큰 순위 10개 단어를 입력하세요.**"
      ]
    },
    {
      "cell_type": "code",
      "source": [
        "!pip install squarify"
      ],
      "metadata": {
        "id": "23yy9kSsIHko",
        "outputId": "6cbed25e-4607-4891-a9bd-217340317c3a",
        "colab": {
          "base_uri": "https://localhost:8080/"
        }
      },
      "execution_count": 70,
      "outputs": [
        {
          "output_type": "stream",
          "name": "stdout",
          "text": [
            "Requirement already satisfied: squarify in /usr/local/lib/python3.7/dist-packages (0.4.3)\n"
          ]
        }
      ]
    },
    {
      "cell_type": "code",
      "execution_count": 71,
      "metadata": {
        "id": "3Gk8_RIxcWKS"
      },
      "outputs": [],
      "source": [
        "### 이곳에서 과제를 진행해 주세요 ###\n",
        "from collections import Counter\n",
        "\n",
        "def word_count(docs):\n",
        "    \"\"\" 토큰화된 문서들을 입력받아 토큰을 카운트 하고 관련된 속성을 가진 데이터프레임을 리턴합니다.\n",
        "    Args:\n",
        "        docs (series or list): 토큰화된 문서가 들어있는 list\n",
        "    Returns:\n",
        "        list: Dataframe\n",
        "    \"\"\"\n",
        "    # 전체 코퍼스에서 단어 빈도 카운트\n",
        "    word_counts = Counter()\n",
        "\n",
        "    # 단어가 존재하는 문서의 빈도 카운트, 단어가 한 번 이상 존재하면 +1\n",
        "    word_in_docs = Counter()\n",
        "\n",
        "    # 전체 문서의 갯수\n",
        "    total_docs = len(docs)\n",
        "\n",
        "    for doc in docs:\n",
        "        word_counts.update(doc)\n",
        "        word_in_docs.update(set(doc))\n",
        "\n",
        "    temp = zip(word_counts.keys(), word_counts.values())\n",
        "\n",
        "    wc = pd.DataFrame(temp, columns = ['word', 'count'])\n",
        "\n",
        "    # 단어의 순위\n",
        "    # method='first': 같은 값의 경우 먼저나온 요소를 우선\n",
        "    wc['rank'] = wc['count'].rank(method='first', ascending=False)\n",
        "    total = wc['count'].sum()\n",
        "\n",
        "    # 코퍼스 내 단어의 비율\n",
        "    wc['percent'] = wc['count'].apply(lambda x: x / total)\n",
        "\n",
        "    wc = wc.sort_values(by='rank')\n",
        "\n",
        "    # 누적 비율\n",
        "    # cumsum() : cumulative sum\n",
        "    wc['cul_percent'] = wc['percent'].cumsum()\n",
        "\n",
        "    temp2 = zip(word_in_docs.keys(), word_in_docs.values())\n",
        "    ac = pd.DataFrame(temp2, columns=['word', 'word_in_docs'])\n",
        "    wc = ac.merge(wc, on='word')\n",
        "    \n",
        "    # 전체 문서 중 존재하는 비율\n",
        "    wc['word_in_docs_percent'] = wc['word_in_docs'].apply(lambda x: x / total_docs)\n",
        "\n",
        "    return wc.sort_values(by='rank')"
      ]
    },
    {
      "cell_type": "code",
      "source": [
        "wc = word_count(df[\"tokens\"])\n",
        "wc.head(10)"
      ],
      "metadata": {
        "id": "gkR8SkZwWnwY",
        "outputId": "04521d3b-4ff9-4198-bfdc-e17190dfc1e3",
        "colab": {
          "base_uri": "https://localhost:8080/",
          "height": 363
        }
      },
      "execution_count": 72,
      "outputs": [
        {
          "output_type": "execute_result",
          "data": {
            "text/plain": [
              "     word  word_in_docs  count  rank   percent  cul_percent  \\\n",
              "113   and           755  21864   1.0  0.056104     0.056104   \n",
              "205    to           754  12694   2.0  0.032573     0.088677   \n",
              "147   the           745  10538   3.0  0.027041     0.115717   \n",
              "62     of           745   8839   4.0  0.022681     0.138398   \n",
              "106  data           740   7425   5.0  0.019053     0.157451   \n",
              "17     in           748   6769   6.0  0.017369     0.174821   \n",
              "217     a           739   6436   7.0  0.016515     0.191336   \n",
              "67   with           742   5727   8.0  0.014696     0.206031   \n",
              "583   for           727   4132   9.0  0.010603     0.216634   \n",
              "29     or           708   3812  10.0  0.009782     0.226416   \n",
              "\n",
              "     word_in_docs_percent  \n",
              "113              0.997358  \n",
              "205              0.996037  \n",
              "147              0.984148  \n",
              "62               0.984148  \n",
              "106              0.977543  \n",
              "17               0.988111  \n",
              "217              0.976222  \n",
              "67               0.980185  \n",
              "583              0.960370  \n",
              "29               0.935271  "
            ],
            "text/html": [
              "\n",
              "  <div id=\"df-8fd57177-1ab5-4d15-bc33-99680ff90b81\">\n",
              "    <div class=\"colab-df-container\">\n",
              "      <div>\n",
              "<style scoped>\n",
              "    .dataframe tbody tr th:only-of-type {\n",
              "        vertical-align: middle;\n",
              "    }\n",
              "\n",
              "    .dataframe tbody tr th {\n",
              "        vertical-align: top;\n",
              "    }\n",
              "\n",
              "    .dataframe thead th {\n",
              "        text-align: right;\n",
              "    }\n",
              "</style>\n",
              "<table border=\"1\" class=\"dataframe\">\n",
              "  <thead>\n",
              "    <tr style=\"text-align: right;\">\n",
              "      <th></th>\n",
              "      <th>word</th>\n",
              "      <th>word_in_docs</th>\n",
              "      <th>count</th>\n",
              "      <th>rank</th>\n",
              "      <th>percent</th>\n",
              "      <th>cul_percent</th>\n",
              "      <th>word_in_docs_percent</th>\n",
              "    </tr>\n",
              "  </thead>\n",
              "  <tbody>\n",
              "    <tr>\n",
              "      <th>113</th>\n",
              "      <td>and</td>\n",
              "      <td>755</td>\n",
              "      <td>21864</td>\n",
              "      <td>1.0</td>\n",
              "      <td>0.056104</td>\n",
              "      <td>0.056104</td>\n",
              "      <td>0.997358</td>\n",
              "    </tr>\n",
              "    <tr>\n",
              "      <th>205</th>\n",
              "      <td>to</td>\n",
              "      <td>754</td>\n",
              "      <td>12694</td>\n",
              "      <td>2.0</td>\n",
              "      <td>0.032573</td>\n",
              "      <td>0.088677</td>\n",
              "      <td>0.996037</td>\n",
              "    </tr>\n",
              "    <tr>\n",
              "      <th>147</th>\n",
              "      <td>the</td>\n",
              "      <td>745</td>\n",
              "      <td>10538</td>\n",
              "      <td>3.0</td>\n",
              "      <td>0.027041</td>\n",
              "      <td>0.115717</td>\n",
              "      <td>0.984148</td>\n",
              "    </tr>\n",
              "    <tr>\n",
              "      <th>62</th>\n",
              "      <td>of</td>\n",
              "      <td>745</td>\n",
              "      <td>8839</td>\n",
              "      <td>4.0</td>\n",
              "      <td>0.022681</td>\n",
              "      <td>0.138398</td>\n",
              "      <td>0.984148</td>\n",
              "    </tr>\n",
              "    <tr>\n",
              "      <th>106</th>\n",
              "      <td>data</td>\n",
              "      <td>740</td>\n",
              "      <td>7425</td>\n",
              "      <td>5.0</td>\n",
              "      <td>0.019053</td>\n",
              "      <td>0.157451</td>\n",
              "      <td>0.977543</td>\n",
              "    </tr>\n",
              "    <tr>\n",
              "      <th>17</th>\n",
              "      <td>in</td>\n",
              "      <td>748</td>\n",
              "      <td>6769</td>\n",
              "      <td>6.0</td>\n",
              "      <td>0.017369</td>\n",
              "      <td>0.174821</td>\n",
              "      <td>0.988111</td>\n",
              "    </tr>\n",
              "    <tr>\n",
              "      <th>217</th>\n",
              "      <td>a</td>\n",
              "      <td>739</td>\n",
              "      <td>6436</td>\n",
              "      <td>7.0</td>\n",
              "      <td>0.016515</td>\n",
              "      <td>0.191336</td>\n",
              "      <td>0.976222</td>\n",
              "    </tr>\n",
              "    <tr>\n",
              "      <th>67</th>\n",
              "      <td>with</td>\n",
              "      <td>742</td>\n",
              "      <td>5727</td>\n",
              "      <td>8.0</td>\n",
              "      <td>0.014696</td>\n",
              "      <td>0.206031</td>\n",
              "      <td>0.980185</td>\n",
              "    </tr>\n",
              "    <tr>\n",
              "      <th>583</th>\n",
              "      <td>for</td>\n",
              "      <td>727</td>\n",
              "      <td>4132</td>\n",
              "      <td>9.0</td>\n",
              "      <td>0.010603</td>\n",
              "      <td>0.216634</td>\n",
              "      <td>0.960370</td>\n",
              "    </tr>\n",
              "    <tr>\n",
              "      <th>29</th>\n",
              "      <td>or</td>\n",
              "      <td>708</td>\n",
              "      <td>3812</td>\n",
              "      <td>10.0</td>\n",
              "      <td>0.009782</td>\n",
              "      <td>0.226416</td>\n",
              "      <td>0.935271</td>\n",
              "    </tr>\n",
              "  </tbody>\n",
              "</table>\n",
              "</div>\n",
              "      <button class=\"colab-df-convert\" onclick=\"convertToInteractive('df-8fd57177-1ab5-4d15-bc33-99680ff90b81')\"\n",
              "              title=\"Convert this dataframe to an interactive table.\"\n",
              "              style=\"display:none;\">\n",
              "        \n",
              "  <svg xmlns=\"http://www.w3.org/2000/svg\" height=\"24px\"viewBox=\"0 0 24 24\"\n",
              "       width=\"24px\">\n",
              "    <path d=\"M0 0h24v24H0V0z\" fill=\"none\"/>\n",
              "    <path d=\"M18.56 5.44l.94 2.06.94-2.06 2.06-.94-2.06-.94-.94-2.06-.94 2.06-2.06.94zm-11 1L8.5 8.5l.94-2.06 2.06-.94-2.06-.94L8.5 2.5l-.94 2.06-2.06.94zm10 10l.94 2.06.94-2.06 2.06-.94-2.06-.94-.94-2.06-.94 2.06-2.06.94z\"/><path d=\"M17.41 7.96l-1.37-1.37c-.4-.4-.92-.59-1.43-.59-.52 0-1.04.2-1.43.59L10.3 9.45l-7.72 7.72c-.78.78-.78 2.05 0 2.83L4 21.41c.39.39.9.59 1.41.59.51 0 1.02-.2 1.41-.59l7.78-7.78 2.81-2.81c.8-.78.8-2.07 0-2.86zM5.41 20L4 18.59l7.72-7.72 1.47 1.35L5.41 20z\"/>\n",
              "  </svg>\n",
              "      </button>\n",
              "      \n",
              "  <style>\n",
              "    .colab-df-container {\n",
              "      display:flex;\n",
              "      flex-wrap:wrap;\n",
              "      gap: 12px;\n",
              "    }\n",
              "\n",
              "    .colab-df-convert {\n",
              "      background-color: #E8F0FE;\n",
              "      border: none;\n",
              "      border-radius: 50%;\n",
              "      cursor: pointer;\n",
              "      display: none;\n",
              "      fill: #1967D2;\n",
              "      height: 32px;\n",
              "      padding: 0 0 0 0;\n",
              "      width: 32px;\n",
              "    }\n",
              "\n",
              "    .colab-df-convert:hover {\n",
              "      background-color: #E2EBFA;\n",
              "      box-shadow: 0px 1px 2px rgba(60, 64, 67, 0.3), 0px 1px 3px 1px rgba(60, 64, 67, 0.15);\n",
              "      fill: #174EA6;\n",
              "    }\n",
              "\n",
              "    [theme=dark] .colab-df-convert {\n",
              "      background-color: #3B4455;\n",
              "      fill: #D2E3FC;\n",
              "    }\n",
              "\n",
              "    [theme=dark] .colab-df-convert:hover {\n",
              "      background-color: #434B5C;\n",
              "      box-shadow: 0px 1px 3px 1px rgba(0, 0, 0, 0.15);\n",
              "      filter: drop-shadow(0px 1px 2px rgba(0, 0, 0, 0.3));\n",
              "      fill: #FFFFFF;\n",
              "    }\n",
              "  </style>\n",
              "\n",
              "      <script>\n",
              "        const buttonEl =\n",
              "          document.querySelector('#df-8fd57177-1ab5-4d15-bc33-99680ff90b81 button.colab-df-convert');\n",
              "        buttonEl.style.display =\n",
              "          google.colab.kernel.accessAllowed ? 'block' : 'none';\n",
              "\n",
              "        async function convertToInteractive(key) {\n",
              "          const element = document.querySelector('#df-8fd57177-1ab5-4d15-bc33-99680ff90b81');\n",
              "          const dataTable =\n",
              "            await google.colab.kernel.invokeFunction('convertToInteractive',\n",
              "                                                     [key], {});\n",
              "          if (!dataTable) return;\n",
              "\n",
              "          const docLinkHtml = 'Like what you see? Visit the ' +\n",
              "            '<a target=\"_blank\" href=https://colab.research.google.com/notebooks/data_table.ipynb>data table notebook</a>'\n",
              "            + ' to learn more about interactive tables.';\n",
              "          element.innerHTML = '';\n",
              "          dataTable['output_type'] = 'display_data';\n",
              "          await google.colab.output.renderOutput(dataTable, element);\n",
              "          const docLink = document.createElement('div');\n",
              "          docLink.innerHTML = docLinkHtml;\n",
              "          element.appendChild(docLink);\n",
              "        }\n",
              "      </script>\n",
              "    </div>\n",
              "  </div>\n",
              "  "
            ]
          },
          "metadata": {},
          "execution_count": 72
        }
      ]
    },
    {
      "cell_type": "code",
      "source": [
        "import squarify\n",
        "import matplotlib.pyplot as plt\n",
        "\n",
        "wc_top10 = wc[wc['rank'] <= 10]\n",
        "squarify.plot(sizes=wc_top10['percent'], label=wc_top10['word'], alpha=0.6)\n",
        "plt.axis('off')\n",
        "plt.show()"
      ],
      "metadata": {
        "id": "W7O4Lm5KW1v2",
        "outputId": "d8f018ce-d109-4113-9bbe-96641762bc19",
        "colab": {
          "base_uri": "https://localhost:8080/",
          "height": 248
        }
      },
      "execution_count": 73,
      "outputs": [
        {
          "output_type": "display_data",
          "data": {
            "text/plain": [
              "<Figure size 432x288 with 1 Axes>"
            ],
            "image/png": "[encoded data removed]"
          },
          "metadata": {
            "needs_background": "light"
          }
        }
      ]
    },
    {
      "cell_type": "markdown",
      "metadata": {
        "id": "sURsv85FnxVU"
      },
      "source": [
        "### 4) 확장된 불용어 사전을 사용해 토큰을 정제합니다.\n"
      ]
    },
    {
      "cell_type": "markdown",
      "metadata": {
        "id": "d4FW5bGjRHb4"
      },
      "source": [
        "- **문항 4) 기본 불용어 사전에 두 단어(`\"data\", \"work\"`)를 추가하는 코드를 사용해주세요.**\n",
        "- **문항 5) 불용어를 제거하고 난 뒤 토큰 순위 10개의 단어를 입력하세요.**"
      ]
    },
    {
      "cell_type": "code",
      "execution_count": 74,
      "metadata": {
        "id": "yuxNolYCcWrv"
      },
      "outputs": [],
      "source": [
        "### 이곳에서 과제를 진행해 주세요 ### \n",
        "STOP_WORDS = nlp.Defaults.stop_words.union([\"data\", \"work\"])"
      ]
    },
    {
      "cell_type": "code",
      "source": [
        "tokens = []\n",
        "\n",
        "for doc in tokenizer.pipe(df['description']):\n",
        "    \n",
        "    doc_tokens = []\n",
        "    \n",
        "    for token in doc: \n",
        "        if re.sub(r'[^a-z0-9]',\"\",token.text.lower()) not in STOP_WORDS:\n",
        "          if (token.text != '\\n') and (token.text != '\\n\\n'):\n",
        "              doc_tokens.append(token.text.lower())\n",
        "   \n",
        "    tokens.append(doc_tokens)\n",
        "    \n",
        "df['tokens'] = tokens"
      ],
      "metadata": {
        "id": "OqrjS01-bJuE"
      },
      "execution_count": 75,
      "outputs": []
    },
    {
      "cell_type": "code",
      "source": [
        "wc = word_count(df['tokens'])\n",
        "wc.head(10)"
      ],
      "metadata": {
        "id": "1pCex6Drb0kQ",
        "outputId": "fe33a84b-f899-47eb-bd3b-969115429ccc",
        "colab": {
          "base_uri": "https://localhost:8080/",
          "height": 363
        }
      },
      "execution_count": 76,
      "outputs": [
        {
          "output_type": "execute_result",
          "data": {
            "text/plain": [
              "            word  word_in_docs  count  rank   percent  cul_percent  \\\n",
              "120   experience           687   3055   1.0  0.012632     0.012632   \n",
              "501     business           518   1885   2.0  0.007794     0.020425   \n",
              "195         team           548   1323   3.0  0.005470     0.025896   \n",
              "567     learning           467   1193   4.0  0.004933     0.030828   \n",
              "553      machine           468   1140   5.0  0.004714     0.035542   \n",
              "873      science           460   1048   6.0  0.004333     0.039875   \n",
              "32       ability           452    958   7.0  0.003961     0.043836   \n",
              "98      analysis           436    896   8.0  0.003705     0.047541   \n",
              "313  statistical           409    890   9.0  0.003680     0.051221   \n",
              "9         skills           466    886  10.0  0.003663     0.054884   \n",
              "\n",
              "     word_in_docs_percent  \n",
              "120              0.907530  \n",
              "501              0.684280  \n",
              "195              0.723910  \n",
              "567              0.616909  \n",
              "553              0.618230  \n",
              "873              0.607662  \n",
              "32               0.597094  \n",
              "98               0.575958  \n",
              "313              0.540291  \n",
              "9                0.615588  "
            ],
            "text/html": [
              "\n",
              "  <div id=\"df-719cc04a-95c8-47bf-9a96-5ec411adb40c\">\n",
              "    <div class=\"colab-df-container\">\n",
              "      <div>\n",
              "<style scoped>\n",
              "    .dataframe tbody tr th:only-of-type {\n",
              "        vertical-align: middle;\n",
              "    }\n",
              "\n",
              "    .dataframe tbody tr th {\n",
              "        vertical-align: top;\n",
              "    }\n",
              "\n",
              "    .dataframe thead th {\n",
              "        text-align: right;\n",
              "    }\n",
              "</style>\n",
              "<table border=\"1\" class=\"dataframe\">\n",
              "  <thead>\n",
              "    <tr style=\"text-align: right;\">\n",
              "      <th></th>\n",
              "      <th>word</th>\n",
              "      <th>word_in_docs</th>\n",
              "      <th>count</th>\n",
              "      <th>rank</th>\n",
              "      <th>percent</th>\n",
              "      <th>cul_percent</th>\n",
              "      <th>word_in_docs_percent</th>\n",
              "    </tr>\n",
              "  </thead>\n",
              "  <tbody>\n",
              "    <tr>\n",
              "      <th>120</th>\n",
              "      <td>experience</td>\n",
              "      <td>687</td>\n",
              "      <td>3055</td>\n",
              "      <td>1.0</td>\n",
              "      <td>0.012632</td>\n",
              "      <td>0.012632</td>\n",
              "      <td>0.907530</td>\n",
              "    </tr>\n",
              "    <tr>\n",
              "      <th>501</th>\n",
              "      <td>business</td>\n",
              "      <td>518</td>\n",
              "      <td>1885</td>\n",
              "      <td>2.0</td>\n",
              "      <td>0.007794</td>\n",
              "      <td>0.020425</td>\n",
              "      <td>0.684280</td>\n",
              "    </tr>\n",
              "    <tr>\n",
              "      <th>195</th>\n",
              "      <td>team</td>\n",
              "      <td>548</td>\n",
              "      <td>1323</td>\n",
              "      <td>3.0</td>\n",
              "      <td>0.005470</td>\n",
              "      <td>0.025896</td>\n",
              "      <td>0.723910</td>\n",
              "    </tr>\n",
              "    <tr>\n",
              "      <th>567</th>\n",
              "      <td>learning</td>\n",
              "      <td>467</td>\n",
              "      <td>1193</td>\n",
              "      <td>4.0</td>\n",
              "      <td>0.004933</td>\n",
              "      <td>0.030828</td>\n",
              "      <td>0.616909</td>\n",
              "    </tr>\n",
              "    <tr>\n",
              "      <th>553</th>\n",
              "      <td>machine</td>\n",
              "      <td>468</td>\n",
              "      <td>1140</td>\n",
              "      <td>5.0</td>\n",
              "      <td>0.004714</td>\n",
              "      <td>0.035542</td>\n",
              "      <td>0.618230</td>\n",
              "    </tr>\n",
              "    <tr>\n",
              "      <th>873</th>\n",
              "      <td>science</td>\n",
              "      <td>460</td>\n",
              "      <td>1048</td>\n",
              "      <td>6.0</td>\n",
              "      <td>0.004333</td>\n",
              "      <td>0.039875</td>\n",
              "      <td>0.607662</td>\n",
              "    </tr>\n",
              "    <tr>\n",
              "      <th>32</th>\n",
              "      <td>ability</td>\n",
              "      <td>452</td>\n",
              "      <td>958</td>\n",
              "      <td>7.0</td>\n",
              "      <td>0.003961</td>\n",
              "      <td>0.043836</td>\n",
              "      <td>0.597094</td>\n",
              "    </tr>\n",
              "    <tr>\n",
              "      <th>98</th>\n",
              "      <td>analysis</td>\n",
              "      <td>436</td>\n",
              "      <td>896</td>\n",
              "      <td>8.0</td>\n",
              "      <td>0.003705</td>\n",
              "      <td>0.047541</td>\n",
              "      <td>0.575958</td>\n",
              "    </tr>\n",
              "    <tr>\n",
              "      <th>313</th>\n",
              "      <td>statistical</td>\n",
              "      <td>409</td>\n",
              "      <td>890</td>\n",
              "      <td>9.0</td>\n",
              "      <td>0.003680</td>\n",
              "      <td>0.051221</td>\n",
              "      <td>0.540291</td>\n",
              "    </tr>\n",
              "    <tr>\n",
              "      <th>9</th>\n",
              "      <td>skills</td>\n",
              "      <td>466</td>\n",
              "      <td>886</td>\n",
              "      <td>10.0</td>\n",
              "      <td>0.003663</td>\n",
              "      <td>0.054884</td>\n",
              "      <td>0.615588</td>\n",
              "    </tr>\n",
              "  </tbody>\n",
              "</table>\n",
              "</div>\n",
              "      <button class=\"colab-df-convert\" onclick=\"convertToInteractive('df-719cc04a-95c8-47bf-9a96-5ec411adb40c')\"\n",
              "              title=\"Convert this dataframe to an interactive table.\"\n",
              "              style=\"display:none;\">\n",
              "        \n",
              "  <svg xmlns=\"http://www.w3.org/2000/svg\" height=\"24px\"viewBox=\"0 0 24 24\"\n",
              "       width=\"24px\">\n",
              "    <path d=\"M0 0h24v24H0V0z\" fill=\"none\"/>\n",
              "    <path d=\"M18.56 5.44l.94 2.06.94-2.06 2.06-.94-2.06-.94-.94-2.06-.94 2.06-2.06.94zm-11 1L8.5 8.5l.94-2.06 2.06-.94-2.06-.94L8.5 2.5l-.94 2.06-2.06.94zm10 10l.94 2.06.94-2.06 2.06-.94-2.06-.94-.94-2.06-.94 2.06-2.06.94z\"/><path d=\"M17.41 7.96l-1.37-1.37c-.4-.4-.92-.59-1.43-.59-.52 0-1.04.2-1.43.59L10.3 9.45l-7.72 7.72c-.78.78-.78 2.05 0 2.83L4 21.41c.39.39.9.59 1.41.59.51 0 1.02-.2 1.41-.59l7.78-7.78 2.81-2.81c.8-.78.8-2.07 0-2.86zM5.41 20L4 18.59l7.72-7.72 1.47 1.35L5.41 20z\"/>\n",
              "  </svg>\n",
              "      </button>\n",
              "      \n",
              "  <style>\n",
              "    .colab-df-container {\n",
              "      display:flex;\n",
              "      flex-wrap:wrap;\n",
              "      gap: 12px;\n",
              "    }\n",
              "\n",
              "    .colab-df-convert {\n",
              "      background-color: #E8F0FE;\n",
              "      border: none;\n",
              "      border-radius: 50%;\n",
              "      cursor: pointer;\n",
              "      display: none;\n",
              "      fill: #1967D2;\n",
              "      height: 32px;\n",
              "      padding: 0 0 0 0;\n",
              "      width: 32px;\n",
              "    }\n",
              "\n",
              "    .colab-df-convert:hover {\n",
              "      background-color: #E2EBFA;\n",
              "      box-shadow: 0px 1px 2px rgba(60, 64, 67, 0.3), 0px 1px 3px 1px rgba(60, 64, 67, 0.15);\n",
              "      fill: #174EA6;\n",
              "    }\n",
              "\n",
              "    [theme=dark] .colab-df-convert {\n",
              "      background-color: #3B4455;\n",
              "      fill: #D2E3FC;\n",
              "    }\n",
              "\n",
              "    [theme=dark] .colab-df-convert:hover {\n",
              "      background-color: #434B5C;\n",
              "      box-shadow: 0px 1px 3px 1px rgba(0, 0, 0, 0.15);\n",
              "      filter: drop-shadow(0px 1px 2px rgba(0, 0, 0, 0.3));\n",
              "      fill: #FFFFFF;\n",
              "    }\n",
              "  </style>\n",
              "\n",
              "      <script>\n",
              "        const buttonEl =\n",
              "          document.querySelector('#df-719cc04a-95c8-47bf-9a96-5ec411adb40c button.colab-df-convert');\n",
              "        buttonEl.style.display =\n",
              "          google.colab.kernel.accessAllowed ? 'block' : 'none';\n",
              "\n",
              "        async function convertToInteractive(key) {\n",
              "          const element = document.querySelector('#df-719cc04a-95c8-47bf-9a96-5ec411adb40c');\n",
              "          const dataTable =\n",
              "            await google.colab.kernel.invokeFunction('convertToInteractive',\n",
              "                                                     [key], {});\n",
              "          if (!dataTable) return;\n",
              "\n",
              "          const docLinkHtml = 'Like what you see? Visit the ' +\n",
              "            '<a target=\"_blank\" href=https://colab.research.google.com/notebooks/data_table.ipynb>data table notebook</a>'\n",
              "            + ' to learn more about interactive tables.';\n",
              "          element.innerHTML = '';\n",
              "          dataTable['output_type'] = 'display_data';\n",
              "          await google.colab.output.renderOutput(dataTable, element);\n",
              "          const docLink = document.createElement('div');\n",
              "          docLink.innerHTML = docLinkHtml;\n",
              "          element.appendChild(docLink);\n",
              "        }\n",
              "      </script>\n",
              "    </div>\n",
              "  </div>\n",
              "  "
            ]
          },
          "metadata": {},
          "execution_count": 76
        }
      ]
    },
    {
      "cell_type": "markdown",
      "metadata": {
        "id": "f0iyh_gFnxVV"
      },
      "source": [
        "### 5) Lemmatization 사용 효과를 분석해 봅니다.\n",
        "\n"
      ]
    },
    {
      "cell_type": "markdown",
      "metadata": {
        "id": "zcBkXD0WTNgI"
      },
      "source": [
        "- **문항 6) Lemmatization을 진행한 뒤 상위 10개 단어를 입력하세요.**"
      ]
    },
    {
      "cell_type": "code",
      "execution_count": 77,
      "metadata": {
        "id": "O2cKokO8cXR5"
      },
      "outputs": [],
      "source": [
        "### 이곳에서 과제를 진행해 주세요 ###\n",
        "def get_lemmas(text):\n",
        "    \"\"\"\n",
        "    표제어 추출\n",
        "    \"\"\"\n",
        "    lemmas = []\n",
        "    \n",
        "    doc = nlp(text)\n",
        "\n",
        "    for token in doc: \n",
        "        if re.sub(r'[^a-z0-9]',\"\",token.text.lower()) not in STOP_WORDS and ((token.is_stop == False) and (token.is_punct == False)) and (token.pos_ != 'PRON'):\n",
        "          if (token.text != '\\n') and (token.text != '\\n\\n'): \n",
        "              lemmas.append(token.lemma_)\n",
        "    \n",
        "    return lemmas"
      ]
    },
    {
      "cell_type": "code",
      "source": [
        "df['lemmas'] = df['description'].apply(get_lemmas)\n",
        "wc = word_count(df['lemmas'])\n",
        "wc.head(10)"
      ],
      "metadata": {
        "id": "77XM5f_heXnU",
        "outputId": "78851015-8403-4345-fda8-f5a3c3f5ec4c",
        "colab": {
          "base_uri": "https://localhost:8080/",
          "height": 363
        }
      },
      "execution_count": 78,
      "outputs": [
        {
          "output_type": "execute_result",
          "data": {
            "text/plain": [
              "           word  word_in_docs  count  rank   percent  cul_percent  \\\n",
              "115  experience           708   3578   1.0  0.014566     0.014566   \n",
              "352        team           630   2251   2.0  0.009164     0.023729   \n",
              "406    business           528   2029   3.0  0.008260     0.031989   \n",
              "95     analysis           536   1531   4.0  0.006233     0.038222   \n",
              "119       model           527   1446   5.0  0.005887     0.044108   \n",
              "100       skill           547   1205   6.0  0.004905     0.049014   \n",
              "103     product           439   1196   7.0  0.004869     0.053882   \n",
              "203     include           510   1178   8.0  0.004796     0.058678   \n",
              "21      develop           521   1163   9.0  0.004734     0.063412   \n",
              "308    analytic           426   1153  10.0  0.004694     0.068106   \n",
              "\n",
              "     word_in_docs_percent  \n",
              "115              0.935271  \n",
              "352              0.832232  \n",
              "406              0.697490  \n",
              "95               0.708058  \n",
              "119              0.696169  \n",
              "100              0.722589  \n",
              "103              0.579921  \n",
              "203              0.673712  \n",
              "21               0.688243  \n",
              "308              0.562748  "
            ],
            "text/html": [
              "\n",
              "  <div id=\"df-75213c2c-b3f0-45b8-b6a7-46e4aa81eb66\">\n",
              "    <div class=\"colab-df-container\">\n",
              "      <div>\n",
              "<style scoped>\n",
              "    .dataframe tbody tr th:only-of-type {\n",
              "        vertical-align: middle;\n",
              "    }\n",
              "\n",
              "    .dataframe tbody tr th {\n",
              "        vertical-align: top;\n",
              "    }\n",
              "\n",
              "    .dataframe thead th {\n",
              "        text-align: right;\n",
              "    }\n",
              "</style>\n",
              "<table border=\"1\" class=\"dataframe\">\n",
              "  <thead>\n",
              "    <tr style=\"text-align: right;\">\n",
              "      <th></th>\n",
              "      <th>word</th>\n",
              "      <th>word_in_docs</th>\n",
              "      <th>count</th>\n",
              "      <th>rank</th>\n",
              "      <th>percent</th>\n",
              "      <th>cul_percent</th>\n",
              "      <th>word_in_docs_percent</th>\n",
              "    </tr>\n",
              "  </thead>\n",
              "  <tbody>\n",
              "    <tr>\n",
              "      <th>115</th>\n",
              "      <td>experience</td>\n",
              "      <td>708</td>\n",
              "      <td>3578</td>\n",
              "      <td>1.0</td>\n",
              "      <td>0.014566</td>\n",
              "      <td>0.014566</td>\n",
              "      <td>0.935271</td>\n",
              "    </tr>\n",
              "    <tr>\n",
              "      <th>352</th>\n",
              "      <td>team</td>\n",
              "      <td>630</td>\n",
              "      <td>2251</td>\n",
              "      <td>2.0</td>\n",
              "      <td>0.009164</td>\n",
              "      <td>0.023729</td>\n",
              "      <td>0.832232</td>\n",
              "    </tr>\n",
              "    <tr>\n",
              "      <th>406</th>\n",
              "      <td>business</td>\n",
              "      <td>528</td>\n",
              "      <td>2029</td>\n",
              "      <td>3.0</td>\n",
              "      <td>0.008260</td>\n",
              "      <td>0.031989</td>\n",
              "      <td>0.697490</td>\n",
              "    </tr>\n",
              "    <tr>\n",
              "      <th>95</th>\n",
              "      <td>analysis</td>\n",
              "      <td>536</td>\n",
              "      <td>1531</td>\n",
              "      <td>4.0</td>\n",
              "      <td>0.006233</td>\n",
              "      <td>0.038222</td>\n",
              "      <td>0.708058</td>\n",
              "    </tr>\n",
              "    <tr>\n",
              "      <th>119</th>\n",
              "      <td>model</td>\n",
              "      <td>527</td>\n",
              "      <td>1446</td>\n",
              "      <td>5.0</td>\n",
              "      <td>0.005887</td>\n",
              "      <td>0.044108</td>\n",
              "      <td>0.696169</td>\n",
              "    </tr>\n",
              "    <tr>\n",
              "      <th>100</th>\n",
              "      <td>skill</td>\n",
              "      <td>547</td>\n",
              "      <td>1205</td>\n",
              "      <td>6.0</td>\n",
              "      <td>0.004905</td>\n",
              "      <td>0.049014</td>\n",
              "      <td>0.722589</td>\n",
              "    </tr>\n",
              "    <tr>\n",
              "      <th>103</th>\n",
              "      <td>product</td>\n",
              "      <td>439</td>\n",
              "      <td>1196</td>\n",
              "      <td>7.0</td>\n",
              "      <td>0.004869</td>\n",
              "      <td>0.053882</td>\n",
              "      <td>0.579921</td>\n",
              "    </tr>\n",
              "    <tr>\n",
              "      <th>203</th>\n",
              "      <td>include</td>\n",
              "      <td>510</td>\n",
              "      <td>1178</td>\n",
              "      <td>8.0</td>\n",
              "      <td>0.004796</td>\n",
              "      <td>0.058678</td>\n",
              "      <td>0.673712</td>\n",
              "    </tr>\n",
              "    <tr>\n",
              "      <th>21</th>\n",
              "      <td>develop</td>\n",
              "      <td>521</td>\n",
              "      <td>1163</td>\n",
              "      <td>9.0</td>\n",
              "      <td>0.004734</td>\n",
              "      <td>0.063412</td>\n",
              "      <td>0.688243</td>\n",
              "    </tr>\n",
              "    <tr>\n",
              "      <th>308</th>\n",
              "      <td>analytic</td>\n",
              "      <td>426</td>\n",
              "      <td>1153</td>\n",
              "      <td>10.0</td>\n",
              "      <td>0.004694</td>\n",
              "      <td>0.068106</td>\n",
              "      <td>0.562748</td>\n",
              "    </tr>\n",
              "  </tbody>\n",
              "</table>\n",
              "</div>\n",
              "      <button class=\"colab-df-convert\" onclick=\"convertToInteractive('df-75213c2c-b3f0-45b8-b6a7-46e4aa81eb66')\"\n",
              "              title=\"Convert this dataframe to an interactive table.\"\n",
              "              style=\"display:none;\">\n",
              "        \n",
              "  <svg xmlns=\"http://www.w3.org/2000/svg\" height=\"24px\"viewBox=\"0 0 24 24\"\n",
              "       width=\"24px\">\n",
              "    <path d=\"M0 0h24v24H0V0z\" fill=\"none\"/>\n",
              "    <path d=\"M18.56 5.44l.94 2.06.94-2.06 2.06-.94-2.06-.94-.94-2.06-.94 2.06-2.06.94zm-11 1L8.5 8.5l.94-2.06 2.06-.94-2.06-.94L8.5 2.5l-.94 2.06-2.06.94zm10 10l.94 2.06.94-2.06 2.06-.94-2.06-.94-.94-2.06-.94 2.06-2.06.94z\"/><path d=\"M17.41 7.96l-1.37-1.37c-.4-.4-.92-.59-1.43-.59-.52 0-1.04.2-1.43.59L10.3 9.45l-7.72 7.72c-.78.78-.78 2.05 0 2.83L4 21.41c.39.39.9.59 1.41.59.51 0 1.02-.2 1.41-.59l7.78-7.78 2.81-2.81c.8-.78.8-2.07 0-2.86zM5.41 20L4 18.59l7.72-7.72 1.47 1.35L5.41 20z\"/>\n",
              "  </svg>\n",
              "      </button>\n",
              "      \n",
              "  <style>\n",
              "    .colab-df-container {\n",
              "      display:flex;\n",
              "      flex-wrap:wrap;\n",
              "      gap: 12px;\n",
              "    }\n",
              "\n",
              "    .colab-df-convert {\n",
              "      background-color: #E8F0FE;\n",
              "      border: none;\n",
              "      border-radius: 50%;\n",
              "      cursor: pointer;\n",
              "      display: none;\n",
              "      fill: #1967D2;\n",
              "      height: 32px;\n",
              "      padding: 0 0 0 0;\n",
              "      width: 32px;\n",
              "    }\n",
              "\n",
              "    .colab-df-convert:hover {\n",
              "      background-color: #E2EBFA;\n",
              "      box-shadow: 0px 1px 2px rgba(60, 64, 67, 0.3), 0px 1px 3px 1px rgba(60, 64, 67, 0.15);\n",
              "      fill: #174EA6;\n",
              "    }\n",
              "\n",
              "    [theme=dark] .colab-df-convert {\n",
              "      background-color: #3B4455;\n",
              "      fill: #D2E3FC;\n",
              "    }\n",
              "\n",
              "    [theme=dark] .colab-df-convert:hover {\n",
              "      background-color: #434B5C;\n",
              "      box-shadow: 0px 1px 3px 1px rgba(0, 0, 0, 0.15);\n",
              "      filter: drop-shadow(0px 1px 2px rgba(0, 0, 0, 0.3));\n",
              "      fill: #FFFFFF;\n",
              "    }\n",
              "  </style>\n",
              "\n",
              "      <script>\n",
              "        const buttonEl =\n",
              "          document.querySelector('#df-75213c2c-b3f0-45b8-b6a7-46e4aa81eb66 button.colab-df-convert');\n",
              "        buttonEl.style.display =\n",
              "          google.colab.kernel.accessAllowed ? 'block' : 'none';\n",
              "\n",
              "        async function convertToInteractive(key) {\n",
              "          const element = document.querySelector('#df-75213c2c-b3f0-45b8-b6a7-46e4aa81eb66');\n",
              "          const dataTable =\n",
              "            await google.colab.kernel.invokeFunction('convertToInteractive',\n",
              "                                                     [key], {});\n",
              "          if (!dataTable) return;\n",
              "\n",
              "          const docLinkHtml = 'Like what you see? Visit the ' +\n",
              "            '<a target=\"_blank\" href=https://colab.research.google.com/notebooks/data_table.ipynb>data table notebook</a>'\n",
              "            + ' to learn more about interactive tables.';\n",
              "          element.innerHTML = '';\n",
              "          dataTable['output_type'] = 'display_data';\n",
              "          await google.colab.output.renderOutput(dataTable, element);\n",
              "          const docLink = document.createElement('div');\n",
              "          docLink.innerHTML = docLinkHtml;\n",
              "          element.appendChild(docLink);\n",
              "        }\n",
              "      </script>\n",
              "    </div>\n",
              "  </div>\n",
              "  "
            ]
          },
          "metadata": {},
          "execution_count": 78
        }
      ]
    },
    {
      "cell_type": "markdown",
      "metadata": {
        "id": "_uSNuY9UUl7P"
      },
      "source": [
        "## 2. 유사한 문서 찾기"
      ]
    },
    {
      "cell_type": "markdown",
      "metadata": {
        "id": "Spn3AFhIZBC9"
      },
      "source": [
        "### 1) `TfidfVectorizer`를 이용해 각 문서들을 벡터화 한 후 KNN 모델을 만들고, <br/> 내가 원하는 `job description`을 질의해 가장 가까운 검색 결과들을 가져오고 분석합니다."
      ]
    },
    {
      "cell_type": "markdown",
      "metadata": {
        "id": "WEtnD5gYZZ-c"
      },
      "source": [
        "- **문항 9) 88번 index의 `job description`와 5개의 가장 유사한 `job description`이 있는 index를 입력하세요.**\n",
        "    - 답은 88번 인덱스를 포함합니다.\n",
        "    - `max_features = 3000` 으로 설정합니다.\n",
        "    - [88, 90, 91, 93, 94] 형태로 답을 입력해주세요"
      ]
    },
    {
      "cell_type": "code",
      "source": [
        "\"\"\"\n",
        "args:\n",
        "    ngram_range = (min_n, max_n), min_n 개~ max_n 개를 갖는 n-gram(n개의 연속적인 토큰)을 토큰으로 사용합니다.\n",
        "    min_df = n : int, 최소 n개의 문서에 나타나는 토큰만 사용합니다.\n",
        "    max_df = m : float(0~1), m * 100% 이상 문서에 나타나는 토큰은 제거합니다.\n",
        "\"\"\"\n",
        "from sklearn.feature_extraction.text import CountVectorizer, TfidfVectorizer\n",
        "TV_tuned = TfidfVectorizer(stop_words='english',\n",
        "                           max_features=3000,\n",
        "                           ngram_range=(1,2),\n",
        "                           max_df=.7,\n",
        "                           min_df=3)\n",
        "\n",
        "dtm_TV = TV_tuned.fit_transform(df['description'])\n",
        "dtm_TV = pd.DataFrame(dtm_TV.todense(), columns=TV_tuned.get_feature_names())\n",
        "dtm_TV.head()"
      ],
      "metadata": {
        "id": "SdfRB_NMmjXR",
        "outputId": "e6b28be3-4b8a-42b4-ffc9-a936e1ae6b00",
        "colab": {
          "base_uri": "https://localhost:8080/",
          "height": 272
        }
      },
      "execution_count": 81,
      "outputs": [
        {
          "output_type": "stream",
          "name": "stderr",
          "text": [
            "/usr/local/lib/python3.7/dist-packages/sklearn/utils/deprecation.py:87: FutureWarning: Function get_feature_names is deprecated; get_feature_names is deprecated in 1.0 and will be removed in 1.2. Please use get_feature_names_out instead.\n",
            "  warnings.warn(msg, category=FutureWarning)\n"
          ]
        },
        {
          "output_type": "execute_result",
          "data": {
            "text/plain": [
              "    00       000        10  10 years       100   11   12   14   15   18  ...  \\\n",
              "0  0.0  0.000000  0.053398       0.0  0.000000  0.0  0.0  0.0  0.0  0.0  ...   \n",
              "1  0.0  0.000000  0.000000       0.0  0.000000  0.0  0.0  0.0  0.0  0.0  ...   \n",
              "2  0.0  0.000000  0.000000       0.0  0.000000  0.0  0.0  0.0  0.0  0.0  ...   \n",
              "3  0.0  0.037304  0.000000       0.0  0.039257  0.0  0.0  0.0  0.0  0.0  ...   \n",
              "4  0.0  0.000000  0.000000       0.0  0.000000  0.0  0.0  0.0  0.0  0.0  ...   \n",
              "\n",
              "   years data  years experience  years industry  years professional  \\\n",
              "0         0.0          0.036384             0.0                 0.0   \n",
              "1         0.0          0.000000             0.0                 0.0   \n",
              "2         0.0          0.000000             0.0                 0.0   \n",
              "3         0.0          0.000000             0.0                 0.0   \n",
              "4         0.0          0.074305             0.0                 0.0   \n",
              "\n",
              "   years related  years relevant  years work  yes  york  zillow  \n",
              "0       0.000000        0.000000         0.0  0.0   0.0     0.0  \n",
              "1       0.058441        0.000000         0.0  0.0   0.0     0.0  \n",
              "2       0.000000        0.042957         0.0  0.0   0.0     0.0  \n",
              "3       0.000000        0.000000         0.0  0.0   0.0     0.0  \n",
              "4       0.000000        0.000000         0.0  0.0   0.0     0.0  \n",
              "\n",
              "[5 rows x 3000 columns]"
            ],
            "text/html": [
              "\n",
              "  <div id=\"df-cb21ec6d-93f7-41b3-9909-11a228ffde63\">\n",
              "    <div class=\"colab-df-container\">\n",
              "      <div>\n",
              "<style scoped>\n",
              "    .dataframe tbody tr th:only-of-type {\n",
              "        vertical-align: middle;\n",
              "    }\n",
              "\n",
              "    .dataframe tbody tr th {\n",
              "        vertical-align: top;\n",
              "    }\n",
              "\n",
              "    .dataframe thead th {\n",
              "        text-align: right;\n",
              "    }\n",
              "</style>\n",
              "<table border=\"1\" class=\"dataframe\">\n",
              "  <thead>\n",
              "    <tr style=\"text-align: right;\">\n",
              "      <th></th>\n",
              "      <th>00</th>\n",
              "      <th>000</th>\n",
              "      <th>10</th>\n",
              "      <th>10 years</th>\n",
              "      <th>100</th>\n",
              "      <th>11</th>\n",
              "      <th>12</th>\n",
              "      <th>14</th>\n",
              "      <th>15</th>\n",
              "      <th>18</th>\n",
              "      <th>...</th>\n",
              "      <th>years data</th>\n",
              "      <th>years experience</th>\n",
              "      <th>years industry</th>\n",
              "      <th>years professional</th>\n",
              "      <th>years related</th>\n",
              "      <th>years relevant</th>\n",
              "      <th>years work</th>\n",
              "      <th>yes</th>\n",
              "      <th>york</th>\n",
              "      <th>zillow</th>\n",
              "    </tr>\n",
              "  </thead>\n",
              "  <tbody>\n",
              "    <tr>\n",
              "      <th>0</th>\n",
              "      <td>0.0</td>\n",
              "      <td>0.000000</td>\n",
              "      <td>0.053398</td>\n",
              "      <td>0.0</td>\n",
              "      <td>0.000000</td>\n",
              "      <td>0.0</td>\n",
              "      <td>0.0</td>\n",
              "      <td>0.0</td>\n",
              "      <td>0.0</td>\n",
              "      <td>0.0</td>\n",
              "      <td>...</td>\n",
              "      <td>0.0</td>\n",
              "      <td>0.036384</td>\n",
              "      <td>0.0</td>\n",
              "      <td>0.0</td>\n",
              "      <td>0.000000</td>\n",
              "      <td>0.000000</td>\n",
              "      <td>0.0</td>\n",
              "      <td>0.0</td>\n",
              "      <td>0.0</td>\n",
              "      <td>0.0</td>\n",
              "    </tr>\n",
              "    <tr>\n",
              "      <th>1</th>\n",
              "      <td>0.0</td>\n",
              "      <td>0.000000</td>\n",
              "      <td>0.000000</td>\n",
              "      <td>0.0</td>\n",
              "      <td>0.000000</td>\n",
              "      <td>0.0</td>\n",
              "      <td>0.0</td>\n",
              "      <td>0.0</td>\n",
              "      <td>0.0</td>\n",
              "      <td>0.0</td>\n",
              "      <td>...</td>\n",
              "      <td>0.0</td>\n",
              "      <td>0.000000</td>\n",
              "      <td>0.0</td>\n",
              "      <td>0.0</td>\n",
              "      <td>0.058441</td>\n",
              "      <td>0.000000</td>\n",
              "      <td>0.0</td>\n",
              "      <td>0.0</td>\n",
              "      <td>0.0</td>\n",
              "      <td>0.0</td>\n",
              "    </tr>\n",
              "    <tr>\n",
              "      <th>2</th>\n",
              "      <td>0.0</td>\n",
              "      <td>0.000000</td>\n",
              "      <td>0.000000</td>\n",
              "      <td>0.0</td>\n",
              "      <td>0.000000</td>\n",
              "      <td>0.0</td>\n",
              "      <td>0.0</td>\n",
              "      <td>0.0</td>\n",
              "      <td>0.0</td>\n",
              "      <td>0.0</td>\n",
              "      <td>...</td>\n",
              "      <td>0.0</td>\n",
              "      <td>0.000000</td>\n",
              "      <td>0.0</td>\n",
              "      <td>0.0</td>\n",
              "      <td>0.000000</td>\n",
              "      <td>0.042957</td>\n",
              "      <td>0.0</td>\n",
              "      <td>0.0</td>\n",
              "      <td>0.0</td>\n",
              "      <td>0.0</td>\n",
              "    </tr>\n",
              "    <tr>\n",
              "      <th>3</th>\n",
              "      <td>0.0</td>\n",
              "      <td>0.037304</td>\n",
              "      <td>0.000000</td>\n",
              "      <td>0.0</td>\n",
              "      <td>0.039257</td>\n",
              "      <td>0.0</td>\n",
              "      <td>0.0</td>\n",
              "      <td>0.0</td>\n",
              "      <td>0.0</td>\n",
              "      <td>0.0</td>\n",
              "      <td>...</td>\n",
              "      <td>0.0</td>\n",
              "      <td>0.000000</td>\n",
              "      <td>0.0</td>\n",
              "      <td>0.0</td>\n",
              "      <td>0.000000</td>\n",
              "      <td>0.000000</td>\n",
              "      <td>0.0</td>\n",
              "      <td>0.0</td>\n",
              "      <td>0.0</td>\n",
              "      <td>0.0</td>\n",
              "    </tr>\n",
              "    <tr>\n",
              "      <th>4</th>\n",
              "      <td>0.0</td>\n",
              "      <td>0.000000</td>\n",
              "      <td>0.000000</td>\n",
              "      <td>0.0</td>\n",
              "      <td>0.000000</td>\n",
              "      <td>0.0</td>\n",
              "      <td>0.0</td>\n",
              "      <td>0.0</td>\n",
              "      <td>0.0</td>\n",
              "      <td>0.0</td>\n",
              "      <td>...</td>\n",
              "      <td>0.0</td>\n",
              "      <td>0.074305</td>\n",
              "      <td>0.0</td>\n",
              "      <td>0.0</td>\n",
              "      <td>0.000000</td>\n",
              "      <td>0.000000</td>\n",
              "      <td>0.0</td>\n",
              "      <td>0.0</td>\n",
              "      <td>0.0</td>\n",
              "      <td>0.0</td>\n",
              "    </tr>\n",
              "  </tbody>\n",
              "</table>\n",
              "<p>5 rows × 3000 columns</p>\n",
              "</div>\n",
              "      <button class=\"colab-df-convert\" onclick=\"convertToInteractive('df-cb21ec6d-93f7-41b3-9909-11a228ffde63')\"\n",
              "              title=\"Convert this dataframe to an interactive table.\"\n",
              "              style=\"display:none;\">\n",
              "        \n",
              "  <svg xmlns=\"http://www.w3.org/2000/svg\" height=\"24px\"viewBox=\"0 0 24 24\"\n",
              "       width=\"24px\">\n",
              "    <path d=\"M0 0h24v24H0V0z\" fill=\"none\"/>\n",
              "    <path d=\"M18.56 5.44l.94 2.06.94-2.06 2.06-.94-2.06-.94-.94-2.06-.94 2.06-2.06.94zm-11 1L8.5 8.5l.94-2.06 2.06-.94-2.06-.94L8.5 2.5l-.94 2.06-2.06.94zm10 10l.94 2.06.94-2.06 2.06-.94-2.06-.94-.94-2.06-.94 2.06-2.06.94z\"/><path d=\"M17.41 7.96l-1.37-1.37c-.4-.4-.92-.59-1.43-.59-.52 0-1.04.2-1.43.59L10.3 9.45l-7.72 7.72c-.78.78-.78 2.05 0 2.83L4 21.41c.39.39.9.59 1.41.59.51 0 1.02-.2 1.41-.59l7.78-7.78 2.81-2.81c.8-.78.8-2.07 0-2.86zM5.41 20L4 18.59l7.72-7.72 1.47 1.35L5.41 20z\"/>\n",
              "  </svg>\n",
              "      </button>\n",
              "      \n",
              "  <style>\n",
              "    .colab-df-container {\n",
              "      display:flex;\n",
              "      flex-wrap:wrap;\n",
              "      gap: 12px;\n",
              "    }\n",
              "\n",
              "    .colab-df-convert {\n",
              "      background-color: #E8F0FE;\n",
              "      border: none;\n",
              "      border-radius: 50%;\n",
              "      cursor: pointer;\n",
              "      display: none;\n",
              "      fill: #1967D2;\n",
              "      height: 32px;\n",
              "      padding: 0 0 0 0;\n",
              "      width: 32px;\n",
              "    }\n",
              "\n",
              "    .colab-df-convert:hover {\n",
              "      background-color: #E2EBFA;\n",
              "      box-shadow: 0px 1px 2px rgba(60, 64, 67, 0.3), 0px 1px 3px 1px rgba(60, 64, 67, 0.15);\n",
              "      fill: #174EA6;\n",
              "    }\n",
              "\n",
              "    [theme=dark] .colab-df-convert {\n",
              "      background-color: #3B4455;\n",
              "      fill: #D2E3FC;\n",
              "    }\n",
              "\n",
              "    [theme=dark] .colab-df-convert:hover {\n",
              "      background-color: #434B5C;\n",
              "      box-shadow: 0px 1px 3px 1px rgba(0, 0, 0, 0.15);\n",
              "      filter: drop-shadow(0px 1px 2px rgba(0, 0, 0, 0.3));\n",
              "      fill: #FFFFFF;\n",
              "    }\n",
              "  </style>\n",
              "\n",
              "      <script>\n",
              "        const buttonEl =\n",
              "          document.querySelector('#df-cb21ec6d-93f7-41b3-9909-11a228ffde63 button.colab-df-convert');\n",
              "        buttonEl.style.display =\n",
              "          google.colab.kernel.accessAllowed ? 'block' : 'none';\n",
              "\n",
              "        async function convertToInteractive(key) {\n",
              "          const element = document.querySelector('#df-cb21ec6d-93f7-41b3-9909-11a228ffde63');\n",
              "          const dataTable =\n",
              "            await google.colab.kernel.invokeFunction('convertToInteractive',\n",
              "                                                     [key], {});\n",
              "          if (!dataTable) return;\n",
              "\n",
              "          const docLinkHtml = 'Like what you see? Visit the ' +\n",
              "            '<a target=\"_blank\" href=https://colab.research.google.com/notebooks/data_table.ipynb>data table notebook</a>'\n",
              "            + ' to learn more about interactive tables.';\n",
              "          element.innerHTML = '';\n",
              "          dataTable['output_type'] = 'display_data';\n",
              "          await google.colab.output.renderOutput(dataTable, element);\n",
              "          const docLink = document.createElement('div');\n",
              "          docLink.innerHTML = docLinkHtml;\n",
              "          element.appendChild(docLink);\n",
              "        }\n",
              "      </script>\n",
              "    </div>\n",
              "  </div>\n",
              "  "
            ]
          },
          "metadata": {},
          "execution_count": 81
        }
      ]
    },
    {
      "cell_type": "code",
      "source": [
        "from sklearn.neighbors import NearestNeighbors\n",
        "\n",
        "# dtm을 사용히 NN 모델을 학습시킵니다. (디폴트)최근접 5 이웃.\n",
        "nn = NearestNeighbors(n_neighbors=5, algorithm='kd_tree')\n",
        "nn.fit(dtm_TV)"
      ],
      "metadata": {
        "id": "ypQ8xZRFxKY6",
        "outputId": "446543fc-729f-40ee-eea8-299ca149f202",
        "colab": {
          "base_uri": "https://localhost:8080/"
        }
      },
      "execution_count": 82,
      "outputs": [
        {
          "output_type": "execute_result",
          "data": {
            "text/plain": [
              "NearestNeighbors(algorithm='kd_tree')"
            ]
          },
          "metadata": {},
          "execution_count": 82
        }
      ]
    },
    {
      "cell_type": "code",
      "source": [
        "nn.kneighbors([dtm_TV.iloc[88]])"
      ],
      "metadata": {
        "id": "vO8tlPnPx3Qm",
        "outputId": "6a92990a-387a-4c7d-ff6a-debfc57c90af",
        "colab": {
          "base_uri": "https://localhost:8080/"
        }
      },
      "execution_count": 86,
      "outputs": [
        {
          "output_type": "stream",
          "name": "stderr",
          "text": [
            "/usr/local/lib/python3.7/dist-packages/sklearn/base.py:451: UserWarning: X does not have valid feature names, but NearestNeighbors was fitted with feature names\n",
            "  \"X does not have valid feature names, but\"\n"
          ]
        },
        {
          "output_type": "execute_result",
          "data": {
            "text/plain": [
              "(array([[0.        , 1.21184788, 1.23651951, 1.23693757, 1.23780569]]),\n",
              " array([[ 88,  40, 221,  68, 121]]))"
            ]
          },
          "metadata": {},
          "execution_count": 86
        }
      ]
    },
    {
      "cell_type": "markdown",
      "metadata": {
        "id": "v00p6f-Lq65t"
      },
      "source": [
        "## 3. TF-IDF 이용한 텍스트 분류 진행하기"
      ]
    },
    {
      "cell_type": "markdown",
      "metadata": {
        "id": "PHkVSqedq65t"
      },
      "source": [
        "TF-IDF를 이용해 문장 혹은 문서를 벡터화한 경우, 이 벡터값을 이용해 문서 분류 태스크를 진행할 수 있습니다. \n",
        "\n",
        "현재 다루고 있는 데이터셋에는 label이 존재하지 않으므로, title 컬럼에 \"Senior\"가 있는지 없는지 여부를 통해 Senior 직무 여부를 분류하는 작업을 진행해보겠습니다."
      ]
    },
    {
      "cell_type": "markdown",
      "metadata": {
        "id": "xCTIeXv6q65t"
      },
      "source": [
        "### 1) title 컬럼에 \"Senior\" 문자열이 있으면 1, 없으면 0인 \"Senior\"라는 새로운 컬럼을 생성해주세요."
      ]
    },
    {
      "cell_type": "markdown",
      "metadata": {
        "id": "vXPsPOgJq65t"
      },
      "source": [
        "문항 7) 새롭게 만든 Senior 컬럼에서 값이 1인 (Senior O) 데이터의 개수는?"
      ]
    },
    {
      "cell_type": "code",
      "execution_count": 88,
      "metadata": {
        "id": "HQlh69X-q65u",
        "outputId": "d041924a-513b-49b4-e285-a24ef59d086e",
        "colab": {
          "base_uri": "https://localhost:8080/"
        }
      },
      "outputs": [
        {
          "output_type": "execute_result",
          "data": {
            "text/plain": [
              "0    662\n",
              "1     95\n",
              "Name: senior, dtype: int64"
            ]
          },
          "metadata": {},
          "execution_count": 88
        }
      ],
      "source": [
        "df['senior'] = df['title'].apply(lambda x : 1 if 'Senior' in x else 0)\n",
        "df.senior.value_counts()"
      ]
    },
    {
      "cell_type": "markdown",
      "metadata": {
        "id": "LZuEDRnbq65u"
      },
      "source": [
        "문항 8) sklearn의 `train_test_split`을 통해 train 데이터와 valid 데이터로 나눈 후, `sklearn`의 `DecisionTreeClassifier`를 이용해 분류를 진행해주세요. \n",
        "\n",
        "단, x값은 위에서 학습한 dtm_tfidf를 그대로 이용해주세요. train_test_split과 DecisionTreeClassifier의 random_state을 42로 고정하고, test_size는 0.1로 설정해주세요.\n",
        "\n",
        "학습을 완료한 후, test 데이터에 대한 예측을 진행하고 label 1에 대한 precision과 recall 값을 적어주세요"
      ]
    },
    {
      "cell_type": "code",
      "execution_count": 89,
      "metadata": {
        "id": "PHCATtY8cX5b"
      },
      "outputs": [],
      "source": [
        "### 이곳에서 과제를 진행해 주세요 ### \n",
        "from sklearn.model_selection import train_test_split\n",
        "x_train, x_test, y_train, y_test = train_test_split(dtm_TV, df['senior'], test_size = 0.1, random_state = 42)"
      ]
    },
    {
      "cell_type": "code",
      "source": [
        "from sklearn.tree import DecisionTreeClassifier\n",
        "model = DecisionTreeClassifier()\n",
        "model.fit(x_train, y_train)"
      ],
      "metadata": {
        "id": "Yg5oOeuE11__",
        "outputId": "68f8af55-a1ef-46f6-ecfd-4212bb875926",
        "colab": {
          "base_uri": "https://localhost:8080/"
        }
      },
      "execution_count": 91,
      "outputs": [
        {
          "output_type": "execute_result",
          "data": {
            "text/plain": [
              "DecisionTreeClassifier()"
            ]
          },
          "metadata": {},
          "execution_count": 91
        }
      ]
    },
    {
      "cell_type": "code",
      "source": [
        "from sklearn.metrics import classification_report\n",
        "\n",
        "y_pred = model.predict(x_test)\n",
        "\n",
        "print(classification_report(y_pred, y_test))"
      ],
      "metadata": {
        "id": "DEpuuR232PBY",
        "outputId": "1b3b8463-81fd-4cdc-f273-0030494f1944",
        "colab": {
          "base_uri": "https://localhost:8080/"
        }
      },
      "execution_count": 92,
      "outputs": [
        {
          "output_type": "stream",
          "name": "stdout",
          "text": [
            "              precision    recall  f1-score   support\n",
            "\n",
            "           0       0.93      0.94      0.93        67\n",
            "           1       0.50      0.44      0.47         9\n",
            "\n",
            "    accuracy                           0.88        76\n",
            "   macro avg       0.71      0.69      0.70        76\n",
            "weighted avg       0.88      0.88      0.88        76\n",
            "\n"
          ]
        }
      ]
    }
  ],
  "metadata": {
    "colab": {
      "collapsed_sections": [],
      "name": "N421a_Count-based_Representation.ipynb",
      "provenance": []
    },
    "kernelspec": {
      "display_name": "Python 3 (ipykernel)",
      "language": "python",
      "name": "python3"
    },
    "language_info": {
      "codemirror_mode": {
        "name": "ipython",
        "version": 3
      },
      "file_extension": ".py",
      "mimetype": "text/x-python",
      "name": "python",
      "nbconvert_exporter": "python",
      "pygments_lexer": "ipython3",
      "version": "3.8.10"
    },
    "toc-autonumbering": false
  },
  "nbformat": 4,
  "nbformat_minor": 0
}